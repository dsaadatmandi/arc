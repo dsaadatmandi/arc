{
 "cells": [
  {
   "cell_type": "code",
   "execution_count": null,
   "metadata": {},
   "outputs": [
    {
     "name": "stdout",
     "output_type": "stream",
     "text": [
      "{\"type\": \"\n",
      "registrati\n",
      "on\", \"addr\n",
      "ess\": 1234\n",
      "5}\n"
     ]
    },
    {
     "data": {
      "text/plain": [
       "8"
      ]
     },
     "execution_count": 46,
     "metadata": {},
     "output_type": "execute_result"
    }
   ],
   "source": [
    "import math\n",
    "import socket\n",
    "import json\n",
    "import time\n",
    "\n",
    "payload = json.dumps({\n",
    "    \"type\": \"registration\",\n",
    "    \"address\": 12345\n",
    "})\n",
    "\n",
    "max_size_per_request = 10\n",
    "\n",
    "HOST, PORT = \"localhost\", 1234\n",
    "sock = socket.socket(socket.AF_INET, socket.SOCK_DGRAM)\n",
    "#sock.connect((HOST, PORT))\n",
    "ct = 0\n",
    "for n in range(math.ceil(len(payload)/max_size_per_request)):\n",
    "    val = payload[ct:ct+max_size_per_request]\n",
    "    print(val)\n",
    "    sock.sendto(bytes(val, \"UTF-16\"), (HOST, PORT))\n",
    "    ct += max_size_per_request\n",
    "\n",
    "sock.sendto(bytes(\"end\", \"utf-16\"), (HOST, PORT))\n",
    "#sock.sendall(b\"\\n\")\n",
    "#print(str(sock.recv(1024), \"utf-8\"))"
   ]
  },
  {
   "cell_type": "code",
   "execution_count": 43,
   "metadata": {},
   "outputs": [
    {
     "data": {
      "text/plain": [
       "5"
      ]
     },
     "execution_count": 43,
     "metadata": {},
     "output_type": "execute_result"
    }
   ],
   "source": [
    "math.ceil(len(payload)/max_size_per_request)"
   ]
  }
 ],
 "metadata": {
  "kernelspec": {
   "display_name": "arc",
   "language": "python",
   "name": "python3"
  },
  "language_info": {
   "codemirror_mode": {
    "name": "ipython",
    "version": 3
   },
   "file_extension": ".py",
   "mimetype": "text/x-python",
   "name": "python",
   "nbconvert_exporter": "python",
   "pygments_lexer": "ipython3",
   "version": "3.13.2"
  }
 },
 "nbformat": 4,
 "nbformat_minor": 2
}
